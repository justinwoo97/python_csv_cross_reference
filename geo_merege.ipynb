{
 "cells": [
  {
   "cell_type": "code",
   "execution_count": 3,
   "metadata": {},
   "outputs": [
    {
     "name": "stdout",
     "output_type": "stream",
     "text": [
      "{'Voters&turnout_2012': {'Atlantic': '154.61', 'Bergen': '395.66', 'Burlington': '234.32', 'Camden': '242.04', 'Cape May': '102.54', 'Cumberland': '81.88', 'Essex': '137.06', 'Gloucester': '155.45', 'Hudson': '66.16', 'Hunterdon': '161.77', 'Mercer': '66.59', 'Middlesex': '155.81', 'Monmouth': '328.39', 'Morris': '208.06', 'Ocean': '229.41', 'Passaic': '126.62', 'Salem': '91.75', 'Somerset': '111.62', 'Sussex': '158.99', 'Union': '141.67', 'Warren': '147.99'}, 'Crime_2012': {'Atlantic': '154.61', 'Bergen': '395.66', 'Burlington': '234.32', 'Camden': '242.04', 'Cape May': '102.54', 'Cumberland': '81.88', 'Essex': '137.06', 'Gloucester': '155.45', 'Hudson': '66.16', 'Hunterdon': '161.77', 'Mercer': '66.59', 'Middlesex': '155.81', 'Monmouth': '328.39', 'Morris': '208.06', 'Ocean': '229.41', 'Passaic': '126.62', 'Salem': '91.75', 'Somerset': '111.62', 'Sussex': '158.99', 'Union': '141.67', 'Warren': '147.99'}, 'Employment_2012': {'Atlantic': '154.61', 'Bergen': '395.66', 'Burlington': '234.32', 'Camden': '242.04', 'Cape May': '102.54', 'Cumberland': '81.88', 'Essex': '137.06', 'Gloucester': '155.45', 'Hudson': '66.16', 'Hunterdon': '161.77', 'Mercer': '66.59', 'Middlesex': '155.81', 'Monmouth': '328.39', 'Morris': '208.06', 'Ocean': '229.41', 'Passaic': '126.62', 'Salem': '91.75', 'Somerset': '111.62', 'Sussex': '158.99', 'Union': '141.67', 'Warren': '147.99'}, 'Fiscal_Resources_2012': {'Atlantic': '154.61', 'Bergen': '395.66', 'Burlington': '234.32', 'Camden': '242.04', 'Cape May': '102.54', 'Cumberland': '81.88', 'Essex': '137.06', 'Gloucester': '155.45', 'Hudson': '66.16', 'Hunterdon': '161.77', 'Mercer': '66.59', 'Middlesex': '155.81', 'Monmouth': '328.39', 'Morris': '208.06', 'Ocean': '229.41', 'Passaic': '126.62', 'Salem': '91.75', 'Somerset': '111.62', 'Sussex': '158.99', 'Union': '141.67', 'Warren': '147.99'}, 'Gov_Expenditures_2012': {'Atlantic': '154.61', 'Bergen': '395.66', 'Burlington': '234.32', 'Camden': '242.04', 'Cape May': '102.54', 'Cumberland': '81.88', 'Essex': '137.06', 'Gloucester': '155.45', 'Hudson': '66.16', 'Hunterdon': '161.77', 'Mercer': '66.59', 'Middlesex': '155.81', 'Monmouth': '328.39', 'Morris': '208.06', 'Ocean': '229.41', 'Passaic': '126.62', 'Salem': '91.75', 'Somerset': '111.62', 'Sussex': '158.99', 'Union': '141.67', 'Warren': '147.99'}, 'Housing_2012': {'Atlantic': '154.61', 'Bergen': '395.66', 'Burlington': '234.32', 'Camden': '242.04', 'Cape May': '102.54', 'Cumberland': '81.88', 'Essex': '137.06', 'Gloucester': '155.45', 'Hudson': '66.16', 'Hunterdon': '161.77', 'Mercer': '66.59', 'Middlesex': '155.81', 'Monmouth': '328.39', 'Morris': '208.06', 'Ocean': '229.41', 'Passaic': '126.62', 'Salem': '91.75', 'Somerset': '111.62', 'Sussex': '158.99', 'Union': '141.67', 'Warren': '147.99'}, 'Poverty_2012': {'Atlantic': '154.61', 'Bergen': '395.66', 'Burlington': '234.32', 'Camden': '242.04', 'Cape May': '102.54', 'Cumberland': '81.88', 'Essex': '137.06', 'Gloucester': '155.45', 'Hudson': '66.16', 'Hunterdon': '161.77', 'Mercer': '66.59', 'Middlesex': '155.81', 'Monmouth': '328.39', 'Morris': '208.06', 'Ocean': '229.41', 'Passaic': '126.62', 'Salem': '91.75', 'Somerset': '111.62', 'Sussex': '158.99', 'Union': '141.67', 'Warren': '147.99'}, 'Property_Tax_Burden_2012': {'Atlantic': '154.61', 'Bergen': '395.66', 'Burlington': '234.32', 'Camden': '242.04', 'Cape May': '102.54', 'Cumberland': '81.88', 'Essex': '137.06', 'Gloucester': '155.45', 'Hudson': '66.16', 'Hunterdon': '161.77', 'Mercer': '66.59', 'Middlesex': '155.81', 'Monmouth': '328.39', 'Morris': '208.06', 'Ocean': '229.41', 'Passaic': '126.62', 'Salem': '91.75', 'Somerset': '111.62', 'Sussex': '158.99', 'Union': '141.67', 'Warren': '147.99'}}\n"
     ]
    }
   ],
   "source": [
    "import pandas as pd \n",
    "\n",
    "df = pd.read_csv('https://raw.githubusercontent.com/sai-cs-stud/NJLegisAnalysis/master/NJ_prject/Pandas/County_municipality.csv')\n",
    "county_to_municipality = {}\n",
    "county_list= df.keys().tolist()\n",
    "\n",
    "\n",
    "# 'https://raw.githubusercontent.com/sai-cs-stud/NJLegisAnalysis/master/2012_data/NJ_Population_2012_clean.csv',\n",
    "# 'https://raw.githubusercontent.com/sai-cs-stud/NJLegisAnalysis/master/2012_data/NJ_Election_Results_2012_clean.csv',\n",
    "\n",
    "csv_list = ['https://raw.githubusercontent.com/sai-cs-stud/NJLegisAnalysis/master/2012_data/NJ_Voters&turnout_2012_clean.csv',\n",
    "'https://raw.githubusercontent.com/sai-cs-stud/NJLegisAnalysis/master/2012_data/NJ_Crime_2012_clean.csv',\n",
    "'https://raw.githubusercontent.com/sai-cs-stud/NJLegisAnalysis/master/2012_data/NJ_Employment_2012_clean.csv',\n",
    "'https://raw.githubusercontent.com/sai-cs-stud/NJLegisAnalysis/master/2012_data/NJ_Fiscal_Resources_2012_clean.csv',\n",
    "'https://raw.githubusercontent.com/sai-cs-stud/NJLegisAnalysis/master/2012_data/NJ_Gov_Expenditures_2012_clean.csv',\n",
    "'https://raw.githubusercontent.com/sai-cs-stud/NJLegisAnalysis/master/2012_data/NJ_Housing_2012_clean.csv',\n",
    "'https://raw.githubusercontent.com/sai-cs-stud/NJLegisAnalysis/master/2012_data/NJ_Poverty_2012_clean.csv',\n",
    "'https://raw.githubusercontent.com/sai-cs-stud/NJLegisAnalysis/master/2012_data/NJ_Property_Tax_Burden_2012_clean.csv',\n",
    "]\n",
    "\n",
    "indicator_list = ['Violent Crimes','Non-Violent Crimes','% Unemployed','Per Capita Taxable Property Value','Income Per Taxpayer',\n",
    "                  'Municipal Budget per Capita ($)','Average Residential Property Value ($)','% Owner Occupied Units','TANF %','% SNAP Beneficiaries',\n",
    "                  'School Tax Rate (%)','Property Tax as % Income','Registered Voters as % Population','% Democrats','Voter Turnout (%)']\n",
    "final_dict={}\n",
    "pair_list = ['Voters&turnout_2012','Crime_2012','Employment_2012','Fiscal_Resources_2012','Gov_Expenditures_2012',\n",
    "'Housing_2012','Poverty_2012','Property_Tax_Burden_2012']\n",
    "\n",
    "for csv_name in csv_list:\n",
    "    df_crime = pd.read_csv(csv_name)\n",
    "    df_crime['County_Municipality'] = df_crime['County']+' '+df_crime['Municipality']\n",
    "    df_crime = df_crime.replace(to_replace =\"Township\",value =\"Twp\")\n",
    "    df_crime = df_crime.replace(to_replace =\"-\",value =\"0\")\n",
    "\n",
    "\n",
    "    for county_name in county_list:\n",
    "        df_clean = df.dropna(how='any', subset=[county_name])\n",
    "        df_clean = df_clean.replace(to_replace =\"Township\",value =\"Twp\")\n",
    "        municipality_name = df_clean[county_name].tolist()\n",
    "        df_curr=(df_crime[df_crime['County'] == county_name]).set_index('Municipality')\n",
    "        for indicator in indicator_list:\n",
    "            if indicator in df_curr.columns:\n",
    "                municipality_value = {i : df_curr.loc[i,indicator] for i in municipality_name}\n",
    "                county_to_municipality[county_name] = municipality_value\n",
    "    #print(county_to_municipality.items())\n",
    "    #print(county_to_municipality)   \n",
    "\n",
    "    summary={}\n",
    "    for names in pair_list:\n",
    "        for county_name in county_to_municipality.keys():\n",
    "            new_list = 0\n",
    "            for values in county_to_municipality[county_name].values():\n",
    "                new_list += float(values)\n",
    "            summary.update({county_name:\"%.2f\" % new_list})\n",
    "            final_dict.update({names:summary})\n",
    "print(final_dict)\n",
    "\n"
   ]
  },
  {
   "cell_type": "code",
   "execution_count": 121,
   "metadata": {
    "scrolled": true
   },
   "outputs": [
    {
     "data": {
      "application/vnd.plotly.v1+json": {
       "config": {
        "plotlyServerURL": "https://plot.ly"
       },
       "data": [
        {
         "geo": "geo",
         "lat": [],
         "lon": [],
         "marker": {
          "color": "#ff0040",
          "line": {
           "color": "rgb(40,40,40)",
           "width": 1
          },
          "size": []
         },
         "mode": "markers",
         "showlegend": true,
         "text": [],
         "type": "scattergeo"
        },
        {
         "geo": "geo",
         "lat": [
          40.5751
         ],
         "lon": [
          -74.9133
         ],
         "marker": {
          "color": "#ff4000",
          "line": {
           "color": "rgb(40,40,40)",
           "width": 1
          },
          "size": [
           6.41745
          ]
         },
         "mode": "markers",
         "showlegend": true,
         "text": [
          "Hunterdon"
         ],
         "type": "scattergeo"
        },
        {
         "geo": "geo",
         "lat": [
          40.8549
         ],
         "lon": [
          -74.5174
         ],
         "marker": {
          "color": "#ff0000",
          "line": {
           "color": "rgb(40,40,40)",
           "width": 1
          },
          "size": [
           24.6138
          ]
         },
         "mode": "markers",
         "showlegend": true,
         "text": [
          "Morris"
         ],
         "type": "scattergeo"
        },
        {
         "geo": "geo",
         "lat": [
          40.5626
         ],
         "lon": [
          -74.6094
         ],
         "marker": {
          "color": "#ff8000",
          "line": {
           "color": "rgb(40,40,40)",
           "width": 1
          },
          "size": [
           16.1722
          ]
         },
         "mode": "markers",
         "showlegend": true,
         "text": [
          "Somerset"
         ],
         "type": "scattergeo"
        },
        {
         "geo": "geo",
         "lat": [
          40.9322
         ],
         "lon": [
          -74.0563
         ],
         "marker": {
          "color": "#ffbf00",
          "line": {
           "color": "rgb(40,40,40)",
           "width": 1
          },
          "size": [
           45.2558
          ]
         },
         "mode": "markers",
         "showlegend": true,
         "text": [
          "Bergen"
         ],
         "type": "scattergeo"
        },
        {
         "geo": "geo",
         "lat": [
          40.2965
         ],
         "lon": [
          -74.1449
         ],
         "marker": {
          "color": "#ffff00",
          "line": {
           "color": "rgb(40,40,40)",
           "width": 1
          },
          "size": [
           31.519
          ]
         },
         "mode": "markers",
         "showlegend": true,
         "text": [
          "Monmouth"
         ],
         "type": "scattergeo"
        },
        {
         "geo": "geo",
         "lat": [
          40.2677
         ],
         "lon": [
          -74.7129
         ],
         "marker": {
          "color": "#bfff00",
          "line": {
           "color": "rgb(40,40,40)",
           "width": 1
          },
          "size": [
           18.32565
          ]
         },
         "mode": "markers",
         "showlegend": true,
         "text": [
          "Mercer"
         ],
         "type": "scattergeo"
        },
        {
         "geo": "geo",
         "lat": [
          41.1287
         ],
         "lon": [
          -74.6642
         ],
         "marker": {
          "color": "#80ff00",
          "line": {
           "color": "rgb(40,40,40)",
           "width": 1
          },
          "size": [
           7.46325
          ]
         },
         "mode": "markers",
         "showlegend": true,
         "text": [
          "Sussex"
         ],
         "type": "scattergeo"
        },
        {
         "geo": "geo",
         "lat": [
          39.9996
         ],
         "lon": [
          -74.7535
         ],
         "marker": {
          "color": "#40ff00",
          "line": {
           "color": "rgb(40,40,40)",
           "width": 1
          },
          "size": [
           22.4367
          ]
         },
         "mode": "markers",
         "showlegend": true,
         "text": [
          "Burlington"
         ],
         "type": "scattergeo"
        },
        {
         "geo": "geo",
         "lat": [
          40.661
         ],
         "lon": [
          -74.3105
         ],
         "marker": {
          "color": "#00ff00",
          "line": {
           "color": "rgb(40,40,40)",
           "width": 1
          },
          "size": [
           26.82495
          ]
         },
         "mode": "markers",
         "showlegend": true,
         "text": [
          "Union"
         ],
         "type": "scattergeo"
        },
        {
         "geo": "geo",
         "lat": [
          39.1283
         ],
         "lon": [
          -74.7639
         ],
         "marker": {
          "color": "#00ff40",
          "line": {
           "color": "rgb(40,40,40)",
           "width": 1
          },
          "size": [
           4.86325
          ]
         },
         "mode": "markers",
         "showlegend": true,
         "text": [
          "Cape May"
         ],
         "type": "scattergeo"
        },
        {
         "geo": "geo",
         "lat": [
          40.4796
         ],
         "lon": [
          -74.3945
         ],
         "marker": {
          "color": "#00ff80",
          "line": {
           "color": "rgb(40,40,40)",
           "width": 1
          },
          "size": [
           40.4929
          ]
         },
         "mode": "markers",
         "showlegend": true,
         "text": [
          "Middlesex"
         ],
         "type": "scattergeo"
        },
        {
         "geo": "geo",
         "lat": [
          40.8275
         ],
         "lon": [
          -74.9665
         ],
         "marker": {
          "color": "#00ffbf",
          "line": {
           "color": "rgb(40,40,40)",
           "width": 1
          },
          "size": [
           5.4346
          ]
         },
         "mode": "markers",
         "showlegend": true,
         "text": [
          "Warren"
         ],
         "type": "scattergeo"
        },
        {
         "geo": "geo",
         "lat": [
          40.7764
         ],
         "lon": [
          -74.2287
         ],
         "marker": {
          "color": "#00ffff",
          "line": {
           "color": "rgb(40,40,40)",
           "width": 1
          },
          "size": [
           39.19845
          ]
         },
         "mode": "markers",
         "showlegend": true,
         "text": [
          "Essex"
         ],
         "type": "scattergeo"
        },
        {
         "geo": "geo",
         "lat": [
          39.7437
         ],
         "lon": [
          -75.1715
         ],
         "marker": {
          "color": "#00bfff",
          "line": {
           "color": "rgb(40,40,40)",
           "width": 1
          },
          "size": [
           14.4144
          ]
         },
         "mode": "markers",
         "showlegend": true,
         "text": [
          "Gloucester"
         ],
         "type": "scattergeo"
        },
        {
         "geo": "geo",
         "lat": [
          40.7404
         ],
         "lon": [
          -74.0678
         ],
         "marker": {
          "color": "#0080ff",
          "line": {
           "color": "rgb(40,40,40)",
           "width": 1
          },
          "size": [
           31.7133
          ]
         },
         "mode": "markers",
         "showlegend": true,
         "text": [
          "Hudson"
         ],
         "type": "scattergeo"
        },
        {
         "geo": "geo",
         "lat": [
          39.8986
         ],
         "lon": [
          -74.2203
         ],
         "marker": {
          "color": "#0040ff",
          "line": {
           "color": "rgb(40,40,40)",
           "width": 1
          },
          "size": [
           28.82835
          ]
         },
         "mode": "markers",
         "showlegend": true,
         "text": [
          "Ocean"
         ],
         "type": "scattergeo"
        },
        {
         "geo": "geo",
         "lat": [
          39.8458
         ],
         "lon": [
          -75.0164
         ],
         "marker": {
          "color": "#0000ff",
          "line": {
           "color": "rgb(40,40,40)",
           "width": 1
          },
          "size": [
           25.68285
          ]
         },
         "mode": "markers",
         "showlegend": true,
         "text": [
          "Camden"
         ],
         "type": "scattergeo"
        },
        {
         "geo": "geo",
         "lat": [
          39.6189
         ],
         "lon": [
          -75.3712
         ],
         "marker": {
          "color": "#4000ff",
          "line": {
           "color": "rgb(40,40,40)",
           "width": 1
          },
          "size": [
           3.30415
          ]
         },
         "mode": "markers",
         "showlegend": true,
         "text": [
          "Salem"
         ],
         "type": "scattergeo"
        },
        {
         "geo": "geo",
         "lat": [
          39.4624
         ],
         "lon": [
          -74.7081
         ],
         "marker": {
          "color": "#8000ff",
          "line": {
           "color": "rgb(40,40,40)",
           "width": 1
          },
          "size": [
           13.72745
          ]
         },
         "mode": "markers",
         "showlegend": true,
         "text": [
          "Atlantic"
         ],
         "type": "scattergeo"
        },
        {
         "geo": "geo",
         "lat": [
          40.9703
         ],
         "lon": [
          -74.2457
         ],
         "marker": {
          "color": "#bf00ff",
          "line": {
           "color": "rgb(40,40,40)",
           "width": 1
          },
          "size": [
           25.0613
          ]
         },
         "mode": "markers",
         "showlegend": true,
         "text": [
          "Passaic"
         ],
         "type": "scattergeo"
        },
        {
         "geo": "geo",
         "lat": [
          39.3448
         ],
         "lon": [
          -75.0638
         ],
         "marker": {
          "color": "#ff00ff",
          "line": {
           "color": "rgb(40,40,40)",
           "width": 1
          },
          "size": [
           7.8449
          ]
         },
         "mode": "markers",
         "showlegend": true,
         "text": [
          "Cumberland"
         ],
         "type": "scattergeo"
        },
        {
         "lat": [
          40.183077000000004,
          40.137504
         ],
         "line": {
          "color": "red",
          "width": 1
         },
         "locationmode": "USA-states",
         "lon": [
          -74.700908,
          -74.587685
         ],
         "mode": "lines",
         "type": "scattergeo"
        },
        {
         "lat": [
          40.137504,
          39.770239000000004
         ],
         "line": {
          "color": "red",
          "width": 1
         },
         "locationmode": "USA-states",
         "lon": [
          -74.587685,
          -74.389082
         ],
         "mode": "lines",
         "type": "scattergeo"
        },
        {
         "lat": [
          39.770239000000004,
          39.596265
         ],
         "line": {
          "color": "red",
          "width": 1
         },
         "locationmode": "USA-states",
         "lon": [
          -74.389082,
          -74.327832
         ],
         "mode": "lines",
         "type": "scattergeo"
        },
        {
         "lat": [
          39.596265,
          39.544484000000004
         ],
         "line": {
          "color": "red",
          "width": 1
         },
         "locationmode": "USA-states",
         "lon": [
          -74.327832,
          -74.365933
         ],
         "mode": "lines",
         "type": "scattergeo"
        },
        {
         "lat": [
          39.544484000000004,
          39.72935
         ],
         "line": {
          "color": "red",
          "width": 1
         },
         "locationmode": "USA-states",
         "lon": [
          -74.365933,
          -74.73586
         ],
         "mode": "lines",
         "type": "scattergeo"
        },
        {
         "lat": [
          39.72935,
          39.9947
         ],
         "line": {
          "color": "red",
          "width": 1
         },
         "locationmode": "USA-states",
         "lon": [
          -74.73586,
          -75.048262
         ],
         "mode": "lines",
         "type": "scattergeo"
        },
        {
         "lat": [
          39.9947,
          40.183077000000004
         ],
         "line": {
          "color": "red",
          "width": 1
         },
         "locationmode": "USA-states",
         "lon": [
          -75.048262,
          -74.700908
         ],
         "mode": "lines",
         "type": "scattergeo"
        },
        {
         "lat": [
          39.729351,
          39.607871
         ],
         "line": {
          "color": "red",
          "width": 1
         },
         "locationmode": "USA-states",
         "lon": [
          -74.73585600000001,
          -74.877336
         ],
         "mode": "lines",
         "type": "scattergeo"
        },
        {
         "lat": [
          39.607871,
          39.779383
         ],
         "line": {
          "color": "red",
          "width": 1
         },
         "locationmode": "USA-states",
         "lon": [
          -74.877336,
          -75.08622700000001
         ],
         "mode": "lines",
         "type": "scattergeo"
        },
        {
         "lat": [
          39.779383,
          39.910807
         ],
         "line": {
          "color": "red",
          "width": 1
         },
         "locationmode": "USA-states",
         "lon": [
          -75.08622700000001,
          -75.171906
         ],
         "mode": "lines",
         "type": "scattergeo"
        },
        {
         "lat": [
          39.729351,
          39.514657
         ],
         "line": {
          "color": "red",
          "width": 1
         },
         "locationmode": "USA-states",
         "lon": [
          -74.73585600000001,
          -74.985185
         ],
         "mode": "lines",
         "type": "scattergeo"
        },
        {
         "lat": [
          39.514657,
          39.666315999999995
         ],
         "line": {
          "color": "red",
          "width": 1
         },
         "locationmode": "USA-states",
         "lon": [
          -74.985185,
          -75.198725
         ],
         "mode": "lines",
         "type": "scattergeo"
        },
        {
         "lat": [
          39.666315999999995,
          39.689935999999996
         ],
         "line": {
          "color": "red",
          "width": 1
         },
         "locationmode": "USA-states",
         "lon": [
          -75.198725,
          -75.325369
         ],
         "mode": "lines",
         "type": "scattergeo"
        },
        {
         "lat": [
          39.689935999999996,
          39.784632
         ],
         "line": {
          "color": "red",
          "width": 1
         },
         "locationmode": "USA-states",
         "lon": [
          -75.325369,
          -75.425922
         ],
         "mode": "lines",
         "type": "scattergeo"
        },
        {
         "lat": [
          39.9947,
          39.91081
         ],
         "line": {
          "color": "red",
          "width": 1
         },
         "locationmode": "USA-states",
         "lon": [
          -75.048262,
          -75.17191
         ],
         "mode": "lines",
         "type": "scattergeo"
        },
        {
         "lat": [
          39.91081,
          39.78463
         ],
         "line": {
          "color": "red",
          "width": 1
         },
         "locationmode": "USA-states",
         "lon": [
          -75.17191,
          -75.42591999999999
         ],
         "mode": "lines",
         "type": "scattergeo"
        },
        {
         "lat": [
          39.514657,
          39.459784
         ],
         "line": {
          "color": "red",
          "width": 1
         },
         "locationmode": "USA-states",
         "lon": [
          -74.985185,
          -75.084982
         ],
         "mode": "lines",
         "type": "scattergeo"
        },
        {
         "lat": [
          39.459784,
          39.559465
         ],
         "line": {
          "color": "red",
          "width": 1
         },
         "locationmode": "USA-states",
         "lon": [
          -75.084982,
          -75.24035500000001
         ],
         "mode": "lines",
         "type": "scattergeo"
        },
        {
         "lat": [
          39.559465,
          39.401199
         ],
         "line": {
          "color": "red",
          "width": 1
         },
         "locationmode": "USA-states",
         "lon": [
          -75.24035500000001,
          -75.386411
         ],
         "mode": "lines",
         "type": "scattergeo"
        },
        {
         "lat": [
          39.401199,
          39.4973
         ],
         "line": {
          "color": "red",
          "width": 1
         },
         "locationmode": "USA-states",
         "lon": [
          -75.386411,
          -75.506414
         ],
         "mode": "lines",
         "type": "scattergeo"
        },
        {
         "lat": [
          39.4973,
          39.676159999999996
         ],
         "line": {
          "color": "red",
          "width": 1
         },
         "locationmode": "USA-states",
         "lon": [
          -75.506414,
          -75.546239
         ],
         "mode": "lines",
         "type": "scattergeo"
        },
        {
         "lat": [
          39.676159999999996,
          39.784632
         ],
         "line": {
          "color": "red",
          "width": 1
         },
         "locationmode": "USA-states",
         "lon": [
          -75.546239,
          -75.425922
         ],
         "mode": "lines",
         "type": "scattergeo"
        },
        {
         "lat": [
          39.514657,
          39.417044
         ],
         "line": {
          "color": "red",
          "width": 1
         },
         "locationmode": "USA-states",
         "lon": [
          -74.985185,
          -74.852985
         ],
         "mode": "lines",
         "type": "scattergeo"
        },
        {
         "lat": [
          39.417044,
          39.3031
         ],
         "line": {
          "color": "red",
          "width": 1
         },
         "locationmode": "USA-states",
         "lon": [
          -74.852985,
          -74.9035
         ],
         "mode": "lines",
         "type": "scattergeo"
        },
        {
         "lat": [
          39.3031,
          39.2
         ],
         "line": {
          "color": "red",
          "width": 1
         },
         "locationmode": "USA-states",
         "lon": [
          -74.9035,
          -74.98
         ],
         "mode": "lines",
         "type": "scattergeo"
        },
        {
         "lat": [
          39.2,
          39.232463
         ],
         "line": {
          "color": "red",
          "width": 1
         },
         "locationmode": "USA-states",
         "lon": [
          -74.98,
          -75.157916
         ],
         "mode": "lines",
         "type": "scattergeo"
        },
        {
         "lat": [
          39.232463,
          39.401199
         ],
         "line": {
          "color": "red",
          "width": 1
         },
         "locationmode": "USA-states",
         "lon": [
          -75.157916,
          -75.386411
         ],
         "mode": "lines",
         "type": "scattergeo"
        },
        {
         "lat": [
          39.2,
          38.95065
         ],
         "line": {
          "color": "red",
          "width": 1
         },
         "locationmode": "USA-states",
         "lon": [
          -74.98,
          -74.92
         ],
         "mode": "lines",
         "type": "scattergeo"
        },
        {
         "lat": [
          38.95065,
          39.281951
         ],
         "line": {
          "color": "red",
          "width": 1
         },
         "locationmode": "USA-states",
         "lon": [
          -74.92,
          -74.6
         ],
         "mode": "lines",
         "type": "scattergeo"
        },
        {
         "lat": [
          39.281951,
          39.3031
         ],
         "line": {
          "color": "red",
          "width": 1
         },
         "locationmode": "USA-states",
         "lon": [
          -74.6,
          -74.9035
         ],
         "mode": "lines",
         "type": "scattergeo"
        },
        {
         "lat": [
          39.281951,
          39.544484000000004
         ],
         "line": {
          "color": "red",
          "width": 1
         },
         "locationmode": "USA-states",
         "lon": [
          -74.6,
          -74.365933
         ],
         "mode": "lines",
         "type": "scattergeo"
        },
        {
         "lat": [
          39.596265,
          39.723212
         ],
         "line": {
          "color": "red",
          "width": 1
         },
         "locationmode": "USA-states",
         "lon": [
          -74.327832,
          -74.188004
         ],
         "mode": "lines",
         "type": "scattergeo"
        },
        {
         "lat": [
          39.723212,
          40.029894
         ],
         "line": {
          "color": "red",
          "width": 1
         },
         "locationmode": "USA-states",
         "lon": [
          -74.188004,
          -74.071989
         ],
         "mode": "lines",
         "type": "scattergeo"
        },
        {
         "lat": [
          40.029894,
          40.168326
         ],
         "line": {
          "color": "red",
          "width": 1
         },
         "locationmode": "USA-states",
         "lon": [
          -74.071989,
          -74.263806
         ],
         "mode": "lines",
         "type": "scattergeo"
        },
        {
         "lat": [
          40.168326,
          40.176326
         ],
         "line": {
          "color": "red",
          "width": 1
         },
         "locationmode": "USA-states",
         "lon": [
          -74.263806,
          -74.40551500000001
         ],
         "mode": "lines",
         "type": "scattergeo"
        },
        {
         "lat": [
          40.176326,
          40.137504
         ],
         "line": {
          "color": "red",
          "width": 1
         },
         "locationmode": "USA-states",
         "lon": [
          -74.40551500000001,
          -74.587685
         ],
         "mode": "lines",
         "type": "scattergeo"
        },
        {
         "lat": [
          40.029894,
          40.445
         ],
         "line": {
          "color": "red",
          "width": 1
         },
         "locationmode": "USA-states",
         "lon": [
          -74.071989,
          -73.98
         ],
         "mode": "lines",
         "type": "scattergeo"
        },
        {
         "lat": [
          40.445,
          40.475144
         ],
         "line": {
          "color": "red",
          "width": 1
         },
         "locationmode": "USA-states",
         "lon": [
          -73.98,
          -74.254663
         ],
         "mode": "lines",
         "type": "scattergeo"
        },
        {
         "lat": [
          40.475144,
          40.252133
         ],
         "line": {
          "color": "red",
          "width": 1
         },
         "locationmode": "USA-states",
         "lon": [
          -74.254663,
          -74.479469
         ],
         "mode": "lines",
         "type": "scattergeo"
        },
        {
         "lat": [
          40.252133,
          40.183077000000004
         ],
         "line": {
          "color": "red",
          "width": 1
         },
         "locationmode": "USA-states",
         "lon": [
          -74.479469,
          -74.700908
         ],
         "mode": "lines",
         "type": "scattergeo"
        },
        {
         "lat": [
          40.475144,
          40.584807
         ],
         "line": {
          "color": "red",
          "width": 1
         },
         "locationmode": "USA-states",
         "lon": [
          -74.254663,
          -74.163866
         ],
         "mode": "lines",
         "type": "scattergeo"
        },
        {
         "lat": [
          40.584807,
          40.594434
         ],
         "line": {
          "color": "red",
          "width": 1
         },
         "locationmode": "USA-states",
         "lon": [
          -74.163866,
          -74.456239
         ],
         "mode": "lines",
         "type": "scattergeo"
        },
        {
         "lat": [
          40.594434,
          40.571175
         ],
         "line": {
          "color": "red",
          "width": 1
         },
         "locationmode": "USA-states",
         "lon": [
          -74.456239,
          -74.522375
         ],
         "mode": "lines",
         "type": "scattergeo"
        },
        {
         "lat": [
          40.571175,
          40.496533
         ],
         "line": {
          "color": "red",
          "width": 1
         },
         "locationmode": "USA-states",
         "lon": [
          -74.522375,
          -74.46032
         ],
         "mode": "lines",
         "type": "scattergeo"
        },
        {
         "lat": [
          40.496533,
          40.339507
         ],
         "line": {
          "color": "red",
          "width": 1
         },
         "locationmode": "USA-states",
         "lon": [
          -74.46032,
          -74.629423
         ],
         "mode": "lines",
         "type": "scattergeo"
        },
        {
         "lat": [
          40.339507,
          40.252133
         ],
         "line": {
          "color": "red",
          "width": 1
         },
         "locationmode": "USA-states",
         "lon": [
          -74.629423,
          -74.479469
         ],
         "mode": "lines",
         "type": "scattergeo"
        }
       ],
       "layout": {
        "geo": {
         "center": {
          "lat": 40.2,
          "lon": -74.871826
         },
         "countrycolor": "red",
         "projection": {
          "scale": 11
         },
         "resolution": 110,
         "scope": "usa",
         "showcoastlines": true
        },
        "template": {
         "data": {
          "bar": [
           {
            "error_x": {
             "color": "#2a3f5f"
            },
            "error_y": {
             "color": "#2a3f5f"
            },
            "marker": {
             "line": {
              "color": "#E5ECF6",
              "width": 0.5
             }
            },
            "type": "bar"
           }
          ],
          "barpolar": [
           {
            "marker": {
             "line": {
              "color": "#E5ECF6",
              "width": 0.5
             }
            },
            "type": "barpolar"
           }
          ],
          "carpet": [
           {
            "aaxis": {
             "endlinecolor": "#2a3f5f",
             "gridcolor": "white",
             "linecolor": "white",
             "minorgridcolor": "white",
             "startlinecolor": "#2a3f5f"
            },
            "baxis": {
             "endlinecolor": "#2a3f5f",
             "gridcolor": "white",
             "linecolor": "white",
             "minorgridcolor": "white",
             "startlinecolor": "#2a3f5f"
            },
            "type": "carpet"
           }
          ],
          "choropleth": [
           {
            "colorbar": {
             "outlinewidth": 0,
             "ticks": ""
            },
            "type": "choropleth"
           }
          ],
          "contour": [
           {
            "colorbar": {
             "outlinewidth": 0,
             "ticks": ""
            },
            "colorscale": [
             [
              0,
              "#0d0887"
             ],
             [
              0.1111111111111111,
              "#46039f"
             ],
             [
              0.2222222222222222,
              "#7201a8"
             ],
             [
              0.3333333333333333,
              "#9c179e"
             ],
             [
              0.4444444444444444,
              "#bd3786"
             ],
             [
              0.5555555555555556,
              "#d8576b"
             ],
             [
              0.6666666666666666,
              "#ed7953"
             ],
             [
              0.7777777777777778,
              "#fb9f3a"
             ],
             [
              0.8888888888888888,
              "#fdca26"
             ],
             [
              1,
              "#f0f921"
             ]
            ],
            "type": "contour"
           }
          ],
          "contourcarpet": [
           {
            "colorbar": {
             "outlinewidth": 0,
             "ticks": ""
            },
            "type": "contourcarpet"
           }
          ],
          "heatmap": [
           {
            "colorbar": {
             "outlinewidth": 0,
             "ticks": ""
            },
            "colorscale": [
             [
              0,
              "#0d0887"
             ],
             [
              0.1111111111111111,
              "#46039f"
             ],
             [
              0.2222222222222222,
              "#7201a8"
             ],
             [
              0.3333333333333333,
              "#9c179e"
             ],
             [
              0.4444444444444444,
              "#bd3786"
             ],
             [
              0.5555555555555556,
              "#d8576b"
             ],
             [
              0.6666666666666666,
              "#ed7953"
             ],
             [
              0.7777777777777778,
              "#fb9f3a"
             ],
             [
              0.8888888888888888,
              "#fdca26"
             ],
             [
              1,
              "#f0f921"
             ]
            ],
            "type": "heatmap"
           }
          ],
          "heatmapgl": [
           {
            "colorbar": {
             "outlinewidth": 0,
             "ticks": ""
            },
            "colorscale": [
             [
              0,
              "#0d0887"
             ],
             [
              0.1111111111111111,
              "#46039f"
             ],
             [
              0.2222222222222222,
              "#7201a8"
             ],
             [
              0.3333333333333333,
              "#9c179e"
             ],
             [
              0.4444444444444444,
              "#bd3786"
             ],
             [
              0.5555555555555556,
              "#d8576b"
             ],
             [
              0.6666666666666666,
              "#ed7953"
             ],
             [
              0.7777777777777778,
              "#fb9f3a"
             ],
             [
              0.8888888888888888,
              "#fdca26"
             ],
             [
              1,
              "#f0f921"
             ]
            ],
            "type": "heatmapgl"
           }
          ],
          "histogram": [
           {
            "marker": {
             "colorbar": {
              "outlinewidth": 0,
              "ticks": ""
             }
            },
            "type": "histogram"
           }
          ],
          "histogram2d": [
           {
            "colorbar": {
             "outlinewidth": 0,
             "ticks": ""
            },
            "colorscale": [
             [
              0,
              "#0d0887"
             ],
             [
              0.1111111111111111,
              "#46039f"
             ],
             [
              0.2222222222222222,
              "#7201a8"
             ],
             [
              0.3333333333333333,
              "#9c179e"
             ],
             [
              0.4444444444444444,
              "#bd3786"
             ],
             [
              0.5555555555555556,
              "#d8576b"
             ],
             [
              0.6666666666666666,
              "#ed7953"
             ],
             [
              0.7777777777777778,
              "#fb9f3a"
             ],
             [
              0.8888888888888888,
              "#fdca26"
             ],
             [
              1,
              "#f0f921"
             ]
            ],
            "type": "histogram2d"
           }
          ],
          "histogram2dcontour": [
           {
            "colorbar": {
             "outlinewidth": 0,
             "ticks": ""
            },
            "colorscale": [
             [
              0,
              "#0d0887"
             ],
             [
              0.1111111111111111,
              "#46039f"
             ],
             [
              0.2222222222222222,
              "#7201a8"
             ],
             [
              0.3333333333333333,
              "#9c179e"
             ],
             [
              0.4444444444444444,
              "#bd3786"
             ],
             [
              0.5555555555555556,
              "#d8576b"
             ],
             [
              0.6666666666666666,
              "#ed7953"
             ],
             [
              0.7777777777777778,
              "#fb9f3a"
             ],
             [
              0.8888888888888888,
              "#fdca26"
             ],
             [
              1,
              "#f0f921"
             ]
            ],
            "type": "histogram2dcontour"
           }
          ],
          "mesh3d": [
           {
            "colorbar": {
             "outlinewidth": 0,
             "ticks": ""
            },
            "type": "mesh3d"
           }
          ],
          "parcoords": [
           {
            "line": {
             "colorbar": {
              "outlinewidth": 0,
              "ticks": ""
             }
            },
            "type": "parcoords"
           }
          ],
          "pie": [
           {
            "automargin": true,
            "type": "pie"
           }
          ],
          "scatter": [
           {
            "marker": {
             "colorbar": {
              "outlinewidth": 0,
              "ticks": ""
             }
            },
            "type": "scatter"
           }
          ],
          "scatter3d": [
           {
            "line": {
             "colorbar": {
              "outlinewidth": 0,
              "ticks": ""
             }
            },
            "marker": {
             "colorbar": {
              "outlinewidth": 0,
              "ticks": ""
             }
            },
            "type": "scatter3d"
           }
          ],
          "scattercarpet": [
           {
            "marker": {
             "colorbar": {
              "outlinewidth": 0,
              "ticks": ""
             }
            },
            "type": "scattercarpet"
           }
          ],
          "scattergeo": [
           {
            "marker": {
             "colorbar": {
              "outlinewidth": 0,
              "ticks": ""
             }
            },
            "type": "scattergeo"
           }
          ],
          "scattergl": [
           {
            "marker": {
             "colorbar": {
              "outlinewidth": 0,
              "ticks": ""
             }
            },
            "type": "scattergl"
           }
          ],
          "scattermapbox": [
           {
            "marker": {
             "colorbar": {
              "outlinewidth": 0,
              "ticks": ""
             }
            },
            "type": "scattermapbox"
           }
          ],
          "scatterpolar": [
           {
            "marker": {
             "colorbar": {
              "outlinewidth": 0,
              "ticks": ""
             }
            },
            "type": "scatterpolar"
           }
          ],
          "scatterpolargl": [
           {
            "marker": {
             "colorbar": {
              "outlinewidth": 0,
              "ticks": ""
             }
            },
            "type": "scatterpolargl"
           }
          ],
          "scatterternary": [
           {
            "marker": {
             "colorbar": {
              "outlinewidth": 0,
              "ticks": ""
             }
            },
            "type": "scatterternary"
           }
          ],
          "surface": [
           {
            "colorbar": {
             "outlinewidth": 0,
             "ticks": ""
            },
            "colorscale": [
             [
              0,
              "#0d0887"
             ],
             [
              0.1111111111111111,
              "#46039f"
             ],
             [
              0.2222222222222222,
              "#7201a8"
             ],
             [
              0.3333333333333333,
              "#9c179e"
             ],
             [
              0.4444444444444444,
              "#bd3786"
             ],
             [
              0.5555555555555556,
              "#d8576b"
             ],
             [
              0.6666666666666666,
              "#ed7953"
             ],
             [
              0.7777777777777778,
              "#fb9f3a"
             ],
             [
              0.8888888888888888,
              "#fdca26"
             ],
             [
              1,
              "#f0f921"
             ]
            ],
            "type": "surface"
           }
          ],
          "table": [
           {
            "cells": {
             "fill": {
              "color": "#EBF0F8"
             },
             "line": {
              "color": "white"
             }
            },
            "header": {
             "fill": {
              "color": "#C8D4E3"
             },
             "line": {
              "color": "white"
             }
            },
            "type": "table"
           }
          ]
         },
         "layout": {
          "annotationdefaults": {
           "arrowcolor": "#2a3f5f",
           "arrowhead": 0,
           "arrowwidth": 1
          },
          "coloraxis": {
           "colorbar": {
            "outlinewidth": 0,
            "ticks": ""
           }
          },
          "colorscale": {
           "diverging": [
            [
             0,
             "#8e0152"
            ],
            [
             0.1,
             "#c51b7d"
            ],
            [
             0.2,
             "#de77ae"
            ],
            [
             0.3,
             "#f1b6da"
            ],
            [
             0.4,
             "#fde0ef"
            ],
            [
             0.5,
             "#f7f7f7"
            ],
            [
             0.6,
             "#e6f5d0"
            ],
            [
             0.7,
             "#b8e186"
            ],
            [
             0.8,
             "#7fbc41"
            ],
            [
             0.9,
             "#4d9221"
            ],
            [
             1,
             "#276419"
            ]
           ],
           "sequential": [
            [
             0,
             "#0d0887"
            ],
            [
             0.1111111111111111,
             "#46039f"
            ],
            [
             0.2222222222222222,
             "#7201a8"
            ],
            [
             0.3333333333333333,
             "#9c179e"
            ],
            [
             0.4444444444444444,
             "#bd3786"
            ],
            [
             0.5555555555555556,
             "#d8576b"
            ],
            [
             0.6666666666666666,
             "#ed7953"
            ],
            [
             0.7777777777777778,
             "#fb9f3a"
            ],
            [
             0.8888888888888888,
             "#fdca26"
            ],
            [
             1,
             "#f0f921"
            ]
           ],
           "sequentialminus": [
            [
             0,
             "#0d0887"
            ],
            [
             0.1111111111111111,
             "#46039f"
            ],
            [
             0.2222222222222222,
             "#7201a8"
            ],
            [
             0.3333333333333333,
             "#9c179e"
            ],
            [
             0.4444444444444444,
             "#bd3786"
            ],
            [
             0.5555555555555556,
             "#d8576b"
            ],
            [
             0.6666666666666666,
             "#ed7953"
            ],
            [
             0.7777777777777778,
             "#fb9f3a"
            ],
            [
             0.8888888888888888,
             "#fdca26"
            ],
            [
             1,
             "#f0f921"
            ]
           ]
          },
          "colorway": [
           "#636efa",
           "#EF553B",
           "#00cc96",
           "#ab63fa",
           "#FFA15A",
           "#19d3f3",
           "#FF6692",
           "#B6E880",
           "#FF97FF",
           "#FECB52"
          ],
          "font": {
           "color": "#2a3f5f"
          },
          "geo": {
           "bgcolor": "white",
           "lakecolor": "white",
           "landcolor": "#E5ECF6",
           "showlakes": true,
           "showland": true,
           "subunitcolor": "white"
          },
          "hoverlabel": {
           "align": "left"
          },
          "hovermode": "closest",
          "mapbox": {
           "style": "light"
          },
          "paper_bgcolor": "white",
          "plot_bgcolor": "#E5ECF6",
          "polar": {
           "angularaxis": {
            "gridcolor": "white",
            "linecolor": "white",
            "ticks": ""
           },
           "bgcolor": "#E5ECF6",
           "radialaxis": {
            "gridcolor": "white",
            "linecolor": "white",
            "ticks": ""
           }
          },
          "scene": {
           "xaxis": {
            "backgroundcolor": "#E5ECF6",
            "gridcolor": "white",
            "gridwidth": 2,
            "linecolor": "white",
            "showbackground": true,
            "ticks": "",
            "zerolinecolor": "white"
           },
           "yaxis": {
            "backgroundcolor": "#E5ECF6",
            "gridcolor": "white",
            "gridwidth": 2,
            "linecolor": "white",
            "showbackground": true,
            "ticks": "",
            "zerolinecolor": "white"
           },
           "zaxis": {
            "backgroundcolor": "#E5ECF6",
            "gridcolor": "white",
            "gridwidth": 2,
            "linecolor": "white",
            "showbackground": true,
            "ticks": "",
            "zerolinecolor": "white"
           }
          },
          "shapedefaults": {
           "line": {
            "color": "#2a3f5f"
           }
          },
          "ternary": {
           "aaxis": {
            "gridcolor": "white",
            "linecolor": "white",
            "ticks": ""
           },
           "baxis": {
            "gridcolor": "white",
            "linecolor": "white",
            "ticks": ""
           },
           "bgcolor": "#E5ECF6",
           "caxis": {
            "gridcolor": "white",
            "linecolor": "white",
            "ticks": ""
           }
          },
          "title": {
           "x": 0.05
          },
          "xaxis": {
           "automargin": true,
           "gridcolor": "white",
           "linecolor": "white",
           "ticks": "",
           "title": {
            "standoff": 15
           },
           "zerolinecolor": "white",
           "zerolinewidth": 2
          },
          "yaxis": {
           "automargin": true,
           "gridcolor": "white",
           "linecolor": "white",
           "ticks": "",
           "title": {
            "standoff": 15
           },
           "zerolinecolor": "white",
           "zerolinewidth": 2
          }
         }
        }
       }
      },
      "text/html": [
       "<div>\n",
       "        \n",
       "        \n",
       "            <div id=\"060dd985-b517-481a-82d5-58fbcee9148c\" class=\"plotly-graph-div\" style=\"height:525px; width:100%;\"></div>\n",
       "            <script type=\"text/javascript\">\n",
       "                require([\"plotly\"], function(Plotly) {\n",
       "                    window.PLOTLYENV=window.PLOTLYENV || {};\n",
       "                    \n",
       "                if (document.getElementById(\"060dd985-b517-481a-82d5-58fbcee9148c\")) {\n",
       "                    Plotly.newPlot(\n",
       "                        '060dd985-b517-481a-82d5-58fbcee9148c',\n",
       "                        [{\"geo\": \"geo\", \"lat\": [], \"lon\": [], \"marker\": {\"color\": \"#ff0040\", \"line\": {\"color\": \"rgb(40,40,40)\", \"width\": 1.0}, \"size\": []}, \"mode\": \"markers\", \"showlegend\": true, \"text\": [], \"type\": \"scattergeo\"}, {\"geo\": \"geo\", \"lat\": [40.5751], \"lon\": [-74.9133], \"marker\": {\"color\": \"#ff4000\", \"line\": {\"color\": \"rgb(40,40,40)\", \"width\": 1.0}, \"size\": [6.41745]}, \"mode\": \"markers\", \"showlegend\": true, \"text\": [\"Hunterdon\"], \"type\": \"scattergeo\"}, {\"geo\": \"geo\", \"lat\": [40.8549], \"lon\": [-74.5174], \"marker\": {\"color\": \"#ff0000\", \"line\": {\"color\": \"rgb(40,40,40)\", \"width\": 1.0}, \"size\": [24.6138]}, \"mode\": \"markers\", \"showlegend\": true, \"text\": [\"Morris\"], \"type\": \"scattergeo\"}, {\"geo\": \"geo\", \"lat\": [40.5626], \"lon\": [-74.6094], \"marker\": {\"color\": \"#ff8000\", \"line\": {\"color\": \"rgb(40,40,40)\", \"width\": 1.0}, \"size\": [16.1722]}, \"mode\": \"markers\", \"showlegend\": true, \"text\": [\"Somerset\"], \"type\": \"scattergeo\"}, {\"geo\": \"geo\", \"lat\": [40.9322], \"lon\": [-74.0563], \"marker\": {\"color\": \"#ffbf00\", \"line\": {\"color\": \"rgb(40,40,40)\", \"width\": 1.0}, \"size\": [45.2558]}, \"mode\": \"markers\", \"showlegend\": true, \"text\": [\"Bergen\"], \"type\": \"scattergeo\"}, {\"geo\": \"geo\", \"lat\": [40.2965], \"lon\": [-74.1449], \"marker\": {\"color\": \"#ffff00\", \"line\": {\"color\": \"rgb(40,40,40)\", \"width\": 1.0}, \"size\": [31.519]}, \"mode\": \"markers\", \"showlegend\": true, \"text\": [\"Monmouth\"], \"type\": \"scattergeo\"}, {\"geo\": \"geo\", \"lat\": [40.2677], \"lon\": [-74.7129], \"marker\": {\"color\": \"#bfff00\", \"line\": {\"color\": \"rgb(40,40,40)\", \"width\": 1.0}, \"size\": [18.32565]}, \"mode\": \"markers\", \"showlegend\": true, \"text\": [\"Mercer\"], \"type\": \"scattergeo\"}, {\"geo\": \"geo\", \"lat\": [41.1287], \"lon\": [-74.6642], \"marker\": {\"color\": \"#80ff00\", \"line\": {\"color\": \"rgb(40,40,40)\", \"width\": 1.0}, \"size\": [7.46325]}, \"mode\": \"markers\", \"showlegend\": true, \"text\": [\"Sussex\"], \"type\": \"scattergeo\"}, {\"geo\": \"geo\", \"lat\": [39.9996], \"lon\": [-74.7535], \"marker\": {\"color\": \"#40ff00\", \"line\": {\"color\": \"rgb(40,40,40)\", \"width\": 1.0}, \"size\": [22.4367]}, \"mode\": \"markers\", \"showlegend\": true, \"text\": [\"Burlington\"], \"type\": \"scattergeo\"}, {\"geo\": \"geo\", \"lat\": [40.661], \"lon\": [-74.3105], \"marker\": {\"color\": \"#00ff00\", \"line\": {\"color\": \"rgb(40,40,40)\", \"width\": 1.0}, \"size\": [26.82495]}, \"mode\": \"markers\", \"showlegend\": true, \"text\": [\"Union\"], \"type\": \"scattergeo\"}, {\"geo\": \"geo\", \"lat\": [39.1283], \"lon\": [-74.7639], \"marker\": {\"color\": \"#00ff40\", \"line\": {\"color\": \"rgb(40,40,40)\", \"width\": 1.0}, \"size\": [4.86325]}, \"mode\": \"markers\", \"showlegend\": true, \"text\": [\"Cape May\"], \"type\": \"scattergeo\"}, {\"geo\": \"geo\", \"lat\": [40.4796], \"lon\": [-74.3945], \"marker\": {\"color\": \"#00ff80\", \"line\": {\"color\": \"rgb(40,40,40)\", \"width\": 1.0}, \"size\": [40.4929]}, \"mode\": \"markers\", \"showlegend\": true, \"text\": [\"Middlesex\"], \"type\": \"scattergeo\"}, {\"geo\": \"geo\", \"lat\": [40.8275], \"lon\": [-74.9665], \"marker\": {\"color\": \"#00ffbf\", \"line\": {\"color\": \"rgb(40,40,40)\", \"width\": 1.0}, \"size\": [5.4346]}, \"mode\": \"markers\", \"showlegend\": true, \"text\": [\"Warren\"], \"type\": \"scattergeo\"}, {\"geo\": \"geo\", \"lat\": [40.7764], \"lon\": [-74.2287], \"marker\": {\"color\": \"#00ffff\", \"line\": {\"color\": \"rgb(40,40,40)\", \"width\": 1.0}, \"size\": [39.19845]}, \"mode\": \"markers\", \"showlegend\": true, \"text\": [\"Essex\"], \"type\": \"scattergeo\"}, {\"geo\": \"geo\", \"lat\": [39.7437], \"lon\": [-75.1715], \"marker\": {\"color\": \"#00bfff\", \"line\": {\"color\": \"rgb(40,40,40)\", \"width\": 1.0}, \"size\": [14.4144]}, \"mode\": \"markers\", \"showlegend\": true, \"text\": [\"Gloucester\"], \"type\": \"scattergeo\"}, {\"geo\": \"geo\", \"lat\": [40.7404], \"lon\": [-74.0678], \"marker\": {\"color\": \"#0080ff\", \"line\": {\"color\": \"rgb(40,40,40)\", \"width\": 1.0}, \"size\": [31.7133]}, \"mode\": \"markers\", \"showlegend\": true, \"text\": [\"Hudson\"], \"type\": \"scattergeo\"}, {\"geo\": \"geo\", \"lat\": [39.8986], \"lon\": [-74.2203], \"marker\": {\"color\": \"#0040ff\", \"line\": {\"color\": \"rgb(40,40,40)\", \"width\": 1.0}, \"size\": [28.82835]}, \"mode\": \"markers\", \"showlegend\": true, \"text\": [\"Ocean\"], \"type\": \"scattergeo\"}, {\"geo\": \"geo\", \"lat\": [39.8458], \"lon\": [-75.0164], \"marker\": {\"color\": \"#0000ff\", \"line\": {\"color\": \"rgb(40,40,40)\", \"width\": 1.0}, \"size\": [25.68285]}, \"mode\": \"markers\", \"showlegend\": true, \"text\": [\"Camden\"], \"type\": \"scattergeo\"}, {\"geo\": \"geo\", \"lat\": [39.6189], \"lon\": [-75.3712], \"marker\": {\"color\": \"#4000ff\", \"line\": {\"color\": \"rgb(40,40,40)\", \"width\": 1.0}, \"size\": [3.30415]}, \"mode\": \"markers\", \"showlegend\": true, \"text\": [\"Salem\"], \"type\": \"scattergeo\"}, {\"geo\": \"geo\", \"lat\": [39.4624], \"lon\": [-74.7081], \"marker\": {\"color\": \"#8000ff\", \"line\": {\"color\": \"rgb(40,40,40)\", \"width\": 1.0}, \"size\": [13.72745]}, \"mode\": \"markers\", \"showlegend\": true, \"text\": [\"Atlantic\"], \"type\": \"scattergeo\"}, {\"geo\": \"geo\", \"lat\": [40.9703], \"lon\": [-74.2457], \"marker\": {\"color\": \"#bf00ff\", \"line\": {\"color\": \"rgb(40,40,40)\", \"width\": 1.0}, \"size\": [25.0613]}, \"mode\": \"markers\", \"showlegend\": true, \"text\": [\"Passaic\"], \"type\": \"scattergeo\"}, {\"geo\": \"geo\", \"lat\": [39.3448], \"lon\": [-75.0638], \"marker\": {\"color\": \"#ff00ff\", \"line\": {\"color\": \"rgb(40,40,40)\", \"width\": 1.0}, \"size\": [7.8449]}, \"mode\": \"markers\", \"showlegend\": true, \"text\": [\"Cumberland\"], \"type\": \"scattergeo\"}, {\"lat\": [40.183077000000004, 40.137504], \"line\": {\"color\": \"red\", \"width\": 1}, \"locationmode\": \"USA-states\", \"lon\": [-74.700908, -74.587685], \"mode\": \"lines\", \"type\": \"scattergeo\"}, {\"lat\": [40.137504, 39.770239000000004], \"line\": {\"color\": \"red\", \"width\": 1}, \"locationmode\": \"USA-states\", \"lon\": [-74.587685, -74.389082], \"mode\": \"lines\", \"type\": \"scattergeo\"}, {\"lat\": [39.770239000000004, 39.596265], \"line\": {\"color\": \"red\", \"width\": 1}, \"locationmode\": \"USA-states\", \"lon\": [-74.389082, -74.327832], \"mode\": \"lines\", \"type\": \"scattergeo\"}, {\"lat\": [39.596265, 39.544484000000004], \"line\": {\"color\": \"red\", \"width\": 1}, \"locationmode\": \"USA-states\", \"lon\": [-74.327832, -74.365933], \"mode\": \"lines\", \"type\": \"scattergeo\"}, {\"lat\": [39.544484000000004, 39.72935], \"line\": {\"color\": \"red\", \"width\": 1}, \"locationmode\": \"USA-states\", \"lon\": [-74.365933, -74.73586], \"mode\": \"lines\", \"type\": \"scattergeo\"}, {\"lat\": [39.72935, 39.9947], \"line\": {\"color\": \"red\", \"width\": 1}, \"locationmode\": \"USA-states\", \"lon\": [-74.73586, -75.048262], \"mode\": \"lines\", \"type\": \"scattergeo\"}, {\"lat\": [39.9947, 40.183077000000004], \"line\": {\"color\": \"red\", \"width\": 1}, \"locationmode\": \"USA-states\", \"lon\": [-75.048262, -74.700908], \"mode\": \"lines\", \"type\": \"scattergeo\"}, {\"lat\": [39.729351, 39.607871], \"line\": {\"color\": \"red\", \"width\": 1}, \"locationmode\": \"USA-states\", \"lon\": [-74.73585600000001, -74.877336], \"mode\": \"lines\", \"type\": \"scattergeo\"}, {\"lat\": [39.607871, 39.779383], \"line\": {\"color\": \"red\", \"width\": 1}, \"locationmode\": \"USA-states\", \"lon\": [-74.877336, -75.08622700000001], \"mode\": \"lines\", \"type\": \"scattergeo\"}, {\"lat\": [39.779383, 39.910807], \"line\": {\"color\": \"red\", \"width\": 1}, \"locationmode\": \"USA-states\", \"lon\": [-75.08622700000001, -75.171906], \"mode\": \"lines\", \"type\": \"scattergeo\"}, {\"lat\": [39.729351, 39.514657], \"line\": {\"color\": \"red\", \"width\": 1}, \"locationmode\": \"USA-states\", \"lon\": [-74.73585600000001, -74.985185], \"mode\": \"lines\", \"type\": \"scattergeo\"}, {\"lat\": [39.514657, 39.666315999999995], \"line\": {\"color\": \"red\", \"width\": 1}, \"locationmode\": \"USA-states\", \"lon\": [-74.985185, -75.198725], \"mode\": \"lines\", \"type\": \"scattergeo\"}, {\"lat\": [39.666315999999995, 39.689935999999996], \"line\": {\"color\": \"red\", \"width\": 1}, \"locationmode\": \"USA-states\", \"lon\": [-75.198725, -75.325369], \"mode\": \"lines\", \"type\": \"scattergeo\"}, {\"lat\": [39.689935999999996, 39.784632], \"line\": {\"color\": \"red\", \"width\": 1}, \"locationmode\": \"USA-states\", \"lon\": [-75.325369, -75.425922], \"mode\": \"lines\", \"type\": \"scattergeo\"}, {\"lat\": [39.9947, 39.91081], \"line\": {\"color\": \"red\", \"width\": 1}, \"locationmode\": \"USA-states\", \"lon\": [-75.048262, -75.17191], \"mode\": \"lines\", \"type\": \"scattergeo\"}, {\"lat\": [39.91081, 39.78463], \"line\": {\"color\": \"red\", \"width\": 1}, \"locationmode\": \"USA-states\", \"lon\": [-75.17191, -75.42591999999999], \"mode\": \"lines\", \"type\": \"scattergeo\"}, {\"lat\": [39.514657, 39.459784], \"line\": {\"color\": \"red\", \"width\": 1}, \"locationmode\": \"USA-states\", \"lon\": [-74.985185, -75.084982], \"mode\": \"lines\", \"type\": \"scattergeo\"}, {\"lat\": [39.459784, 39.559465], \"line\": {\"color\": \"red\", \"width\": 1}, \"locationmode\": \"USA-states\", \"lon\": [-75.084982, -75.24035500000001], \"mode\": \"lines\", \"type\": \"scattergeo\"}, {\"lat\": [39.559465, 39.401199], \"line\": {\"color\": \"red\", \"width\": 1}, \"locationmode\": \"USA-states\", \"lon\": [-75.24035500000001, -75.386411], \"mode\": \"lines\", \"type\": \"scattergeo\"}, {\"lat\": [39.401199, 39.4973], \"line\": {\"color\": \"red\", \"width\": 1}, \"locationmode\": \"USA-states\", \"lon\": [-75.386411, -75.506414], \"mode\": \"lines\", \"type\": \"scattergeo\"}, {\"lat\": [39.4973, 39.676159999999996], \"line\": {\"color\": \"red\", \"width\": 1}, \"locationmode\": \"USA-states\", \"lon\": [-75.506414, -75.546239], \"mode\": \"lines\", \"type\": \"scattergeo\"}, {\"lat\": [39.676159999999996, 39.784632], \"line\": {\"color\": \"red\", \"width\": 1}, \"locationmode\": \"USA-states\", \"lon\": [-75.546239, -75.425922], \"mode\": \"lines\", \"type\": \"scattergeo\"}, {\"lat\": [39.514657, 39.417044], \"line\": {\"color\": \"red\", \"width\": 1}, \"locationmode\": \"USA-states\", \"lon\": [-74.985185, -74.852985], \"mode\": \"lines\", \"type\": \"scattergeo\"}, {\"lat\": [39.417044, 39.3031], \"line\": {\"color\": \"red\", \"width\": 1}, \"locationmode\": \"USA-states\", \"lon\": [-74.852985, -74.9035], \"mode\": \"lines\", \"type\": \"scattergeo\"}, {\"lat\": [39.3031, 39.2], \"line\": {\"color\": \"red\", \"width\": 1}, \"locationmode\": \"USA-states\", \"lon\": [-74.9035, -74.98], \"mode\": \"lines\", \"type\": \"scattergeo\"}, {\"lat\": [39.2, 39.232463], \"line\": {\"color\": \"red\", \"width\": 1}, \"locationmode\": \"USA-states\", \"lon\": [-74.98, -75.157916], \"mode\": \"lines\", \"type\": \"scattergeo\"}, {\"lat\": [39.232463, 39.401199], \"line\": {\"color\": \"red\", \"width\": 1}, \"locationmode\": \"USA-states\", \"lon\": [-75.157916, -75.386411], \"mode\": \"lines\", \"type\": \"scattergeo\"}, {\"lat\": [39.2, 38.95065], \"line\": {\"color\": \"red\", \"width\": 1}, \"locationmode\": \"USA-states\", \"lon\": [-74.98, -74.92], \"mode\": \"lines\", \"type\": \"scattergeo\"}, {\"lat\": [38.95065, 39.281951], \"line\": {\"color\": \"red\", \"width\": 1}, \"locationmode\": \"USA-states\", \"lon\": [-74.92, -74.6], \"mode\": \"lines\", \"type\": \"scattergeo\"}, {\"lat\": [39.281951, 39.3031], \"line\": {\"color\": \"red\", \"width\": 1}, \"locationmode\": \"USA-states\", \"lon\": [-74.6, -74.9035], \"mode\": \"lines\", \"type\": \"scattergeo\"}, {\"lat\": [39.281951, 39.544484000000004], \"line\": {\"color\": \"red\", \"width\": 1}, \"locationmode\": \"USA-states\", \"lon\": [-74.6, -74.365933], \"mode\": \"lines\", \"type\": \"scattergeo\"}, {\"lat\": [39.596265, 39.723212], \"line\": {\"color\": \"red\", \"width\": 1}, \"locationmode\": \"USA-states\", \"lon\": [-74.327832, -74.188004], \"mode\": \"lines\", \"type\": \"scattergeo\"}, {\"lat\": [39.723212, 40.029894], \"line\": {\"color\": \"red\", \"width\": 1}, \"locationmode\": \"USA-states\", \"lon\": [-74.188004, -74.071989], \"mode\": \"lines\", \"type\": \"scattergeo\"}, {\"lat\": [40.029894, 40.168326], \"line\": {\"color\": \"red\", \"width\": 1}, \"locationmode\": \"USA-states\", \"lon\": [-74.071989, -74.263806], \"mode\": \"lines\", \"type\": \"scattergeo\"}, {\"lat\": [40.168326, 40.176326], \"line\": {\"color\": \"red\", \"width\": 1}, \"locationmode\": \"USA-states\", \"lon\": [-74.263806, -74.40551500000001], \"mode\": \"lines\", \"type\": \"scattergeo\"}, {\"lat\": [40.176326, 40.137504], \"line\": {\"color\": \"red\", \"width\": 1}, \"locationmode\": \"USA-states\", \"lon\": [-74.40551500000001, -74.587685], \"mode\": \"lines\", \"type\": \"scattergeo\"}, {\"lat\": [40.029894, 40.445], \"line\": {\"color\": \"red\", \"width\": 1}, \"locationmode\": \"USA-states\", \"lon\": [-74.071989, -73.98], \"mode\": \"lines\", \"type\": \"scattergeo\"}, {\"lat\": [40.445, 40.475144], \"line\": {\"color\": \"red\", \"width\": 1}, \"locationmode\": \"USA-states\", \"lon\": [-73.98, -74.254663], \"mode\": \"lines\", \"type\": \"scattergeo\"}, {\"lat\": [40.475144, 40.252133], \"line\": {\"color\": \"red\", \"width\": 1}, \"locationmode\": \"USA-states\", \"lon\": [-74.254663, -74.479469], \"mode\": \"lines\", \"type\": \"scattergeo\"}, {\"lat\": [40.252133, 40.183077000000004], \"line\": {\"color\": \"red\", \"width\": 1}, \"locationmode\": \"USA-states\", \"lon\": [-74.479469, -74.700908], \"mode\": \"lines\", \"type\": \"scattergeo\"}, {\"lat\": [40.475144, 40.584807], \"line\": {\"color\": \"red\", \"width\": 1}, \"locationmode\": \"USA-states\", \"lon\": [-74.254663, -74.163866], \"mode\": \"lines\", \"type\": \"scattergeo\"}, {\"lat\": [40.584807, 40.594434], \"line\": {\"color\": \"red\", \"width\": 1}, \"locationmode\": \"USA-states\", \"lon\": [-74.163866, -74.456239], \"mode\": \"lines\", \"type\": \"scattergeo\"}, {\"lat\": [40.594434, 40.571175], \"line\": {\"color\": \"red\", \"width\": 1}, \"locationmode\": \"USA-states\", \"lon\": [-74.456239, -74.522375], \"mode\": \"lines\", \"type\": \"scattergeo\"}, {\"lat\": [40.571175, 40.496533], \"line\": {\"color\": \"red\", \"width\": 1}, \"locationmode\": \"USA-states\", \"lon\": [-74.522375, -74.46032], \"mode\": \"lines\", \"type\": \"scattergeo\"}, {\"lat\": [40.496533, 40.339507], \"line\": {\"color\": \"red\", \"width\": 1}, \"locationmode\": \"USA-states\", \"lon\": [-74.46032, -74.629423], \"mode\": \"lines\", \"type\": \"scattergeo\"}, {\"lat\": [40.339507, 40.252133], \"line\": {\"color\": \"red\", \"width\": 1}, \"locationmode\": \"USA-states\", \"lon\": [-74.629423, -74.479469], \"mode\": \"lines\", \"type\": \"scattergeo\"}],\n",
       "                        {\"geo\": {\"center\": {\"lat\": 40.2, \"lon\": -74.871826}, \"countrycolor\": \"red\", \"projection\": {\"scale\": 11}, \"resolution\": 110, \"scope\": \"usa\", \"showcoastlines\": true}, \"template\": {\"data\": {\"bar\": [{\"error_x\": {\"color\": \"#2a3f5f\"}, \"error_y\": {\"color\": \"#2a3f5f\"}, \"marker\": {\"line\": {\"color\": \"#E5ECF6\", \"width\": 0.5}}, \"type\": \"bar\"}], \"barpolar\": [{\"marker\": {\"line\": {\"color\": \"#E5ECF6\", \"width\": 0.5}}, \"type\": \"barpolar\"}], \"carpet\": [{\"aaxis\": {\"endlinecolor\": \"#2a3f5f\", \"gridcolor\": \"white\", \"linecolor\": \"white\", \"minorgridcolor\": \"white\", \"startlinecolor\": \"#2a3f5f\"}, \"baxis\": {\"endlinecolor\": \"#2a3f5f\", \"gridcolor\": \"white\", \"linecolor\": \"white\", \"minorgridcolor\": \"white\", \"startlinecolor\": \"#2a3f5f\"}, \"type\": \"carpet\"}], \"choropleth\": [{\"colorbar\": {\"outlinewidth\": 0, \"ticks\": \"\"}, \"type\": \"choropleth\"}], \"contour\": [{\"colorbar\": {\"outlinewidth\": 0, \"ticks\": \"\"}, \"colorscale\": [[0.0, \"#0d0887\"], [0.1111111111111111, \"#46039f\"], [0.2222222222222222, \"#7201a8\"], [0.3333333333333333, \"#9c179e\"], [0.4444444444444444, \"#bd3786\"], [0.5555555555555556, \"#d8576b\"], [0.6666666666666666, \"#ed7953\"], [0.7777777777777778, \"#fb9f3a\"], [0.8888888888888888, \"#fdca26\"], [1.0, \"#f0f921\"]], \"type\": \"contour\"}], \"contourcarpet\": [{\"colorbar\": {\"outlinewidth\": 0, \"ticks\": \"\"}, \"type\": \"contourcarpet\"}], \"heatmap\": [{\"colorbar\": {\"outlinewidth\": 0, \"ticks\": \"\"}, \"colorscale\": [[0.0, \"#0d0887\"], [0.1111111111111111, \"#46039f\"], [0.2222222222222222, \"#7201a8\"], [0.3333333333333333, \"#9c179e\"], [0.4444444444444444, \"#bd3786\"], [0.5555555555555556, \"#d8576b\"], [0.6666666666666666, \"#ed7953\"], [0.7777777777777778, \"#fb9f3a\"], [0.8888888888888888, \"#fdca26\"], [1.0, \"#f0f921\"]], \"type\": \"heatmap\"}], \"heatmapgl\": [{\"colorbar\": {\"outlinewidth\": 0, \"ticks\": \"\"}, \"colorscale\": [[0.0, \"#0d0887\"], [0.1111111111111111, \"#46039f\"], [0.2222222222222222, \"#7201a8\"], [0.3333333333333333, \"#9c179e\"], [0.4444444444444444, \"#bd3786\"], [0.5555555555555556, \"#d8576b\"], [0.6666666666666666, \"#ed7953\"], [0.7777777777777778, \"#fb9f3a\"], [0.8888888888888888, \"#fdca26\"], [1.0, \"#f0f921\"]], \"type\": \"heatmapgl\"}], \"histogram\": [{\"marker\": {\"colorbar\": {\"outlinewidth\": 0, \"ticks\": \"\"}}, \"type\": \"histogram\"}], \"histogram2d\": [{\"colorbar\": {\"outlinewidth\": 0, \"ticks\": \"\"}, \"colorscale\": [[0.0, \"#0d0887\"], [0.1111111111111111, \"#46039f\"], [0.2222222222222222, \"#7201a8\"], [0.3333333333333333, \"#9c179e\"], [0.4444444444444444, \"#bd3786\"], [0.5555555555555556, \"#d8576b\"], [0.6666666666666666, \"#ed7953\"], [0.7777777777777778, \"#fb9f3a\"], [0.8888888888888888, \"#fdca26\"], [1.0, \"#f0f921\"]], \"type\": \"histogram2d\"}], \"histogram2dcontour\": [{\"colorbar\": {\"outlinewidth\": 0, \"ticks\": \"\"}, \"colorscale\": [[0.0, \"#0d0887\"], [0.1111111111111111, \"#46039f\"], [0.2222222222222222, \"#7201a8\"], [0.3333333333333333, \"#9c179e\"], [0.4444444444444444, \"#bd3786\"], [0.5555555555555556, \"#d8576b\"], [0.6666666666666666, \"#ed7953\"], [0.7777777777777778, \"#fb9f3a\"], [0.8888888888888888, \"#fdca26\"], [1.0, \"#f0f921\"]], \"type\": \"histogram2dcontour\"}], \"mesh3d\": [{\"colorbar\": {\"outlinewidth\": 0, \"ticks\": \"\"}, \"type\": \"mesh3d\"}], \"parcoords\": [{\"line\": {\"colorbar\": {\"outlinewidth\": 0, \"ticks\": \"\"}}, \"type\": \"parcoords\"}], \"pie\": [{\"automargin\": true, \"type\": \"pie\"}], \"scatter\": [{\"marker\": {\"colorbar\": {\"outlinewidth\": 0, \"ticks\": \"\"}}, \"type\": \"scatter\"}], \"scatter3d\": [{\"line\": {\"colorbar\": {\"outlinewidth\": 0, \"ticks\": \"\"}}, \"marker\": {\"colorbar\": {\"outlinewidth\": 0, \"ticks\": \"\"}}, \"type\": \"scatter3d\"}], \"scattercarpet\": [{\"marker\": {\"colorbar\": {\"outlinewidth\": 0, \"ticks\": \"\"}}, \"type\": \"scattercarpet\"}], \"scattergeo\": [{\"marker\": {\"colorbar\": {\"outlinewidth\": 0, \"ticks\": \"\"}}, \"type\": \"scattergeo\"}], \"scattergl\": [{\"marker\": {\"colorbar\": {\"outlinewidth\": 0, \"ticks\": \"\"}}, \"type\": \"scattergl\"}], \"scattermapbox\": [{\"marker\": {\"colorbar\": {\"outlinewidth\": 0, \"ticks\": \"\"}}, \"type\": \"scattermapbox\"}], \"scatterpolar\": [{\"marker\": {\"colorbar\": {\"outlinewidth\": 0, \"ticks\": \"\"}}, \"type\": \"scatterpolar\"}], \"scatterpolargl\": [{\"marker\": {\"colorbar\": {\"outlinewidth\": 0, \"ticks\": \"\"}}, \"type\": \"scatterpolargl\"}], \"scatterternary\": [{\"marker\": {\"colorbar\": {\"outlinewidth\": 0, \"ticks\": \"\"}}, \"type\": \"scatterternary\"}], \"surface\": [{\"colorbar\": {\"outlinewidth\": 0, \"ticks\": \"\"}, \"colorscale\": [[0.0, \"#0d0887\"], [0.1111111111111111, \"#46039f\"], [0.2222222222222222, \"#7201a8\"], [0.3333333333333333, \"#9c179e\"], [0.4444444444444444, \"#bd3786\"], [0.5555555555555556, \"#d8576b\"], [0.6666666666666666, \"#ed7953\"], [0.7777777777777778, \"#fb9f3a\"], [0.8888888888888888, \"#fdca26\"], [1.0, \"#f0f921\"]], \"type\": \"surface\"}], \"table\": [{\"cells\": {\"fill\": {\"color\": \"#EBF0F8\"}, \"line\": {\"color\": \"white\"}}, \"header\": {\"fill\": {\"color\": \"#C8D4E3\"}, \"line\": {\"color\": \"white\"}}, \"type\": \"table\"}]}, \"layout\": {\"annotationdefaults\": {\"arrowcolor\": \"#2a3f5f\", \"arrowhead\": 0, \"arrowwidth\": 1}, \"coloraxis\": {\"colorbar\": {\"outlinewidth\": 0, \"ticks\": \"\"}}, \"colorscale\": {\"diverging\": [[0, \"#8e0152\"], [0.1, \"#c51b7d\"], [0.2, \"#de77ae\"], [0.3, \"#f1b6da\"], [0.4, \"#fde0ef\"], [0.5, \"#f7f7f7\"], [0.6, \"#e6f5d0\"], [0.7, \"#b8e186\"], [0.8, \"#7fbc41\"], [0.9, \"#4d9221\"], [1, \"#276419\"]], \"sequential\": [[0.0, \"#0d0887\"], [0.1111111111111111, \"#46039f\"], [0.2222222222222222, \"#7201a8\"], [0.3333333333333333, \"#9c179e\"], [0.4444444444444444, \"#bd3786\"], [0.5555555555555556, \"#d8576b\"], [0.6666666666666666, \"#ed7953\"], [0.7777777777777778, \"#fb9f3a\"], [0.8888888888888888, \"#fdca26\"], [1.0, \"#f0f921\"]], \"sequentialminus\": [[0.0, \"#0d0887\"], [0.1111111111111111, \"#46039f\"], [0.2222222222222222, \"#7201a8\"], [0.3333333333333333, \"#9c179e\"], [0.4444444444444444, \"#bd3786\"], [0.5555555555555556, \"#d8576b\"], [0.6666666666666666, \"#ed7953\"], [0.7777777777777778, \"#fb9f3a\"], [0.8888888888888888, \"#fdca26\"], [1.0, \"#f0f921\"]]}, \"colorway\": [\"#636efa\", \"#EF553B\", \"#00cc96\", \"#ab63fa\", \"#FFA15A\", \"#19d3f3\", \"#FF6692\", \"#B6E880\", \"#FF97FF\", \"#FECB52\"], \"font\": {\"color\": \"#2a3f5f\"}, \"geo\": {\"bgcolor\": \"white\", \"lakecolor\": \"white\", \"landcolor\": \"#E5ECF6\", \"showlakes\": true, \"showland\": true, \"subunitcolor\": \"white\"}, \"hoverlabel\": {\"align\": \"left\"}, \"hovermode\": \"closest\", \"mapbox\": {\"style\": \"light\"}, \"paper_bgcolor\": \"white\", \"plot_bgcolor\": \"#E5ECF6\", \"polar\": {\"angularaxis\": {\"gridcolor\": \"white\", \"linecolor\": \"white\", \"ticks\": \"\"}, \"bgcolor\": \"#E5ECF6\", \"radialaxis\": {\"gridcolor\": \"white\", \"linecolor\": \"white\", \"ticks\": \"\"}}, \"scene\": {\"xaxis\": {\"backgroundcolor\": \"#E5ECF6\", \"gridcolor\": \"white\", \"gridwidth\": 2, \"linecolor\": \"white\", \"showbackground\": true, \"ticks\": \"\", \"zerolinecolor\": \"white\"}, \"yaxis\": {\"backgroundcolor\": \"#E5ECF6\", \"gridcolor\": \"white\", \"gridwidth\": 2, \"linecolor\": \"white\", \"showbackground\": true, \"ticks\": \"\", \"zerolinecolor\": \"white\"}, \"zaxis\": {\"backgroundcolor\": \"#E5ECF6\", \"gridcolor\": \"white\", \"gridwidth\": 2, \"linecolor\": \"white\", \"showbackground\": true, \"ticks\": \"\", \"zerolinecolor\": \"white\"}}, \"shapedefaults\": {\"line\": {\"color\": \"#2a3f5f\"}}, \"ternary\": {\"aaxis\": {\"gridcolor\": \"white\", \"linecolor\": \"white\", \"ticks\": \"\"}, \"baxis\": {\"gridcolor\": \"white\", \"linecolor\": \"white\", \"ticks\": \"\"}, \"bgcolor\": \"#E5ECF6\", \"caxis\": {\"gridcolor\": \"white\", \"linecolor\": \"white\", \"ticks\": \"\"}}, \"title\": {\"x\": 0.05}, \"xaxis\": {\"automargin\": true, \"gridcolor\": \"white\", \"linecolor\": \"white\", \"ticks\": \"\", \"title\": {\"standoff\": 15}, \"zerolinecolor\": \"white\", \"zerolinewidth\": 2}, \"yaxis\": {\"automargin\": true, \"gridcolor\": \"white\", \"linecolor\": \"white\", \"ticks\": \"\", \"title\": {\"standoff\": 15}, \"zerolinecolor\": \"white\", \"zerolinewidth\": 2}}}},\n",
       "                        {\"responsive\": true}\n",
       "                    ).then(function(){\n",
       "                            \n",
       "var gd = document.getElementById('060dd985-b517-481a-82d5-58fbcee9148c');\n",
       "var x = new MutationObserver(function (mutations, observer) {{\n",
       "        var display = window.getComputedStyle(gd).display;\n",
       "        if (!display || display === 'none') {{\n",
       "            console.log([gd, 'removed!']);\n",
       "            Plotly.purge(gd);\n",
       "            observer.disconnect();\n",
       "        }}\n",
       "}});\n",
       "\n",
       "// Listen for the removal of the full notebook cells\n",
       "var notebookContainer = gd.closest('#notebook-container');\n",
       "if (notebookContainer) {{\n",
       "    x.observe(notebookContainer, {childList: true});\n",
       "}}\n",
       "\n",
       "// Listen for the clearing of the current output cell\n",
       "var outputEl = gd.closest('.output');\n",
       "if (outputEl) {{\n",
       "    x.observe(outputEl, {childList: true});\n",
       "}}\n",
       "\n",
       "                        })\n",
       "                };\n",
       "                });\n",
       "            </script>\n",
       "        </div>"
      ]
     },
     "metadata": {},
     "output_type": "display_data"
    }
   ],
   "source": [
    "import pandas as pd \n",
    "import plotly.graph_objects as go\n",
    "\n",
    "df = pd.read_csv('https://raw.githubusercontent.com/sai-cs-stud/NJLegisAnalysis/master/NJ_prject/Pandas/test_1.csv')\n",
    "#df_new.head()\n",
    "df_c = pd.read_csv('https://raw.githubusercontent.com/sai-cs-stud/NJLegisAnalysis/master/NJ_prject/Pandas/County_markers%20-%20Sheet1%20(4).csv')\n",
    "df_l = pd.read_csv('https://raw.githubusercontent.com/sai-cs-stud/NJLegisAnalysis/master/NJ_prject/Pandas/County_lines%20-%20Sheet1%20(42).csv')\n",
    "#County = df_new[\"County\"].values.tolist()\n",
    "# values = range(len(fips))\n",
    "# fig = ff.create_choropleth(fips=fips, values=values,scope = [\"New Jersey\"])\n",
    "#print(County)\n",
    "#df.query('Index == %d' %1)\n",
    "\n",
    "# len(fips)\n",
    "\n",
    "# df_new['text'] = df_new['County'].astype(str)+'<br>Median family income'+df_new['Median family income'].astype(str)\n",
    "# limits = [[50000,60000],[60000,70000],[70000,80000],[80000,90000],[90000,100000]]\n",
    "colors=[\"#ff0040\",\"#ff4000\",\"#ff0000\",\"#ff8000\",\"#ffbf00\",\"#ffff00\",\"#bfff00\",\"#80ff00\",\"#40ff00\",\"#00ff00\",\"#00ff40\",\"#00ff80\",\"#00ffbf\",\"#00ffff\",\"#00bfff\",\"#0080ff\",\"#0040ff\",\"#0000ff\",\"#4000ff\",\"#8000ff\",\"#bf00ff\",\"#ff00ff\"]\n",
    "\n",
    "#print(len(colors))\n",
    "# cities = []\n",
    "# scale = 5000\n",
    "fig = go.Figure()\n",
    "for i in range(22):\n",
    "    df_all = df.query('Index ==%s' %i)\n",
    "    fig.add_trace(go.Scattergeo(\n",
    "        #locationmode= 'USA-states',\n",
    "        showlegend = True,\n",
    "        lon = df_all['Longitude'],\n",
    "        lat = df_all['Latitude'],\n",
    "        text = df_all['County'],\n",
    "        mode='markers',\n",
    "        marker = dict(\n",
    "            size = df_all['Population']/20000,\n",
    "            color = colors[i],\n",
    "            line_color = 'rgb(40,40,40)',\n",
    "            line_width = 1.0\n",
    "        ),\n",
    "        geo = 'geo'))\n",
    "    \"\"\"fig.add_trace(go.Scattergeo(\n",
    "    showlegend = False,\n",
    "    lon = df_c['Lon'],\n",
    "    lat = df_c['Lat'],\n",
    "    mode='markers',\n",
    "    marker = dict(\n",
    "        size = 0,\n",
    "        color = 'white',\n",
    "        line = dict(\n",
    "            width = 0,\n",
    "            color = 'black')\n",
    "        ),\n",
    "    geo = 'geo'))\"\"\"\n",
    "for i in range(len(df_l)):\n",
    "    fig.add_trace(\n",
    "        go.Scattergeo(\n",
    "            locationmode = 'USA-states',\n",
    "            lon = [df_l['start_lon'][i], df_l['end_lon'][i]],\n",
    "            lat = [df_l['start_lat'][i], df_l['end_lat'][i]],\n",
    "            mode = 'lines',\n",
    "            line = dict(width = 1,color = 'red'),\n",
    "        )\n",
    "    )\n",
    "fig.update_layout(\n",
    "    geo = go.layout.Geo(\n",
    "        resolution = 110,\n",
    "        scope = 'usa',\n",
    "        countrycolor = 'red',\n",
    "        showcoastlines =True,\n",
    "        projection = go.layout.geo.Projection(\n",
    "            scale = 11\n",
    "        ),\n",
    "        center = {'lat':40.2,'lon':-74.871826}\n",
    "    ),\n",
    "    #legend_traceorder = 'reversed'\n",
    ")\n",
    "fig.show()"
   ]
  },
  {
   "cell_type": "code",
   "execution_count": null,
   "metadata": {},
   "outputs": [],
   "source": [
    "import pandas as pd \n",
    "import plotly.graph_objects as go\n",
    "\n",
    "df = pd.read_csv('https://raw.githubusercontent.com/sai-cs-stud/NJLegisAnalysis/master/NJ_prject/Pandas/test_1.csv')\n",
    "#df_new.head()\n",
    "df_c = pd.read_csv('https://raw.githubusercontent.com/sai-cs-stud/NJLegisAnalysis/master/NJ_prject/Pandas/County_markers%20-%20Sheet1%20(4).csv')\n",
    "df_l = pd.read_csv('https://raw.githubusercontent.com/sai-cs-stud/NJLegisAnalysis/master/NJ_prject/Pandas/County_lines%20-%20Sheet1%20(42).csv')\n",
    "\n",
    "colors=[\"#ff0040\",\"#ff4000\",\"#ff0000\",\"#ff8000\",\"#ffbf00\",\"#ffff00\",\"#bfff00\",\"#80ff00\",\"#40ff00\",\"#00ff00\",\"#00ff40\",\"#00ff80\",\"#00ffbf\",\"#00ffff\",\"#00bfff\",\"#0080ff\",\"#0040ff\",\"#0000ff\",\"#4000ff\",\"#8000ff\",\"#bf00ff\",\"#ff00ff\"]\n",
    "\n",
    "csv_list = ['https://raw.githubusercontent.com/sai-cs-stud/NJLegisAnalysis/master/2012_data/NJ_Voters&turnout_2012_clean.csv',\n",
    "'https://raw.githubusercontent.com/sai-cs-stud/NJLegisAnalysis/master/2012_data/NJ_Crime_2012_clean.csv',\n",
    "'https://raw.githubusercontent.com/sai-cs-stud/NJLegisAnalysis/master/2012_data/NJ_Employment_2012_clean.csv',\n",
    "'https://raw.githubusercontent.com/sai-cs-stud/NJLegisAnalysis/master/2012_data/NJ_Fiscal_Resources_2012_clean.csv',\n",
    "'https://raw.githubusercontent.com/sai-cs-stud/NJLegisAnalysis/master/2012_data/NJ_Gov_Expenditures_2012_clean.csv',\n",
    "'https://raw.githubusercontent.com/sai-cs-stud/NJLegisAnalysis/master/2012_data/NJ_Housing_2012_clean.csv',\n",
    "'https://raw.githubusercontent.com/sai-cs-stud/NJLegisAnalysis/master/2012_data/NJ_Poverty_2012_clean.csv',\n",
    "'https://raw.githubusercontent.com/sai-cs-stud/NJLegisAnalysis/master/2012_data/NJ_Property_Tax_Burden_2012_clean.csv',\n",
    "]\n",
    "\n",
    "\n",
    "#print(len(colors))\n",
    "# cities = []\n",
    "# scale = 5000\n",
    "fig = go.Figure()\n",
    "for i in range(22):\n",
    "    df_all = df.query('Index ==%s' %i)\n",
    "    fig.add_trace(go.Scattergeo(\n",
    "        #locationmode= 'USA-states',\n",
    "        showlegend = True,\n",
    "        lon = df_all['Longitude'],\n",
    "        lat = df_all['Latitude'],\n",
    "        text = df_all['County'],\n",
    "        mode='markers',\n",
    "        marker = dict(\n",
    "            size = df_all['Population']/20000,\n",
    "            color = colors[i],\n",
    "            line_color = 'rgb(40,40,40)',\n",
    "            line_width = 1.0\n",
    "        ),\n",
    "        geo = 'geo'))\n",
    "    \"\"\"fig.add_trace(go.Scattergeo(\n",
    "    showlegend = False,\n",
    "    lon = df_c['Lon'],\n",
    "    lat = df_c['Lat'],\n",
    "    mode='markers',\n",
    "    marker = dict(\n",
    "        size = 0,\n",
    "        color = 'white',\n",
    "        line = dict(\n",
    "            width = 0,\n",
    "            color = 'black')\n",
    "        ),\n",
    "    geo = 'geo'))\"\"\"\n",
    "for i in range(len(df_l)):\n",
    "    fig.add_trace(\n",
    "        go.Scattergeo(\n",
    "            locationmode = 'USA-states',\n",
    "            lon = [df_l['start_lon'][i], df_l['end_lon'][i]],\n",
    "            lat = [df_l['start_lat'][i], df_l['end_lat'][i]],\n",
    "            mode = 'lines',\n",
    "            line = dict(width = 1,color = 'red'),\n",
    "        )\n",
    "    )\n",
    "fig.update_layout(\n",
    "    geo = go.layout.Geo(\n",
    "        resolution = 110,\n",
    "        scope = 'usa',\n",
    "        countrycolor = 'red',\n",
    "        showcoastlines =True,\n",
    "        projection = go.layout.geo.Projection(\n",
    "            scale = 11\n",
    "        ),\n",
    "        center = {'lat':40.2,'lon':-74.871826}\n",
    "    ),\n",
    "    #legend_traceorder = 'reversed'\n",
    ")\n",
    "fig.show()"
   ]
  }
 ],
 "metadata": {
  "kernelspec": {
   "display_name": "Python 3",
   "language": "python",
   "name": "python3"
  },
  "language_info": {
   "codemirror_mode": {
    "name": "ipython",
    "version": 3
   },
   "file_extension": ".py",
   "mimetype": "text/x-python",
   "name": "python",
   "nbconvert_exporter": "python",
   "pygments_lexer": "ipython3",
   "version": "3.7.4"
  }
 },
 "nbformat": 4,
 "nbformat_minor": 2
}
